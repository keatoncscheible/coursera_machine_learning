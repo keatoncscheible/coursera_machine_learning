{
 "cells": [
  {
   "cell_type": "markdown",
   "source": [
    "# Programming Exercise 1: Linear Regression\n",
    "\n",
    "## Introduction\n",
    "\n",
    "In this exercise, you will implement linear regression and get to see it work on data. Before starting on this programming exercise, we strongly recommend watching the video lectures and completing the review questions for the associated topics.\n",
    "\n",
    "All the information you need for solving this assignment is in this notebook, and all the code you will be implementing will take place within this notebook. The assignment can be promptly submitted to the coursera grader directly from this notebook (code and instructions are included below).\n",
    "\n",
    "Before we begin with the exercises, we need to import all libraries required for this programming exercise. Throughout the course, we will be using [`numpy`](http://www.numpy.org/) for all arrays and matrix operations, and [`matplotlib`](https://matplotlib.org/) for plotting.\n",
    "\n",
    "You can find instructions on how to install required libraries in the README file in the [github repository](https://github.com/dibgerge/ml-coursera-python-assignments)."
   ],
   "metadata": {}
  },
  {
   "cell_type": "code",
   "execution_count": null,
   "source": [
    "import sys\r\n",
    "\r\n",
    "# used for manipulating directory paths\r\n",
    "import os\r\n",
    "\r\n",
    "# Scientific and vector computation for python\r\n",
    "import numpy as np\r\n",
    "\r\n",
    "# Plotting library\r\n",
    "import matplotlib.pyplot as plt\r\n",
    "from mpl_toolkits.mplot3d import Axes3D  # needed to plot 3-D surfaces\r\n",
    "\r\n",
    "# library written for this exercise providing additional functions for assignment submission, and others\r\n",
    "import utils \r\n",
    "\r\n",
    "# define the submission/grader object for this exercise\r\n",
    "grader = utils.Grader()\r\n",
    "\r\n",
    "# tells matplotlib to embed plots within the notebook\r\n",
    "%matplotlib inline"
   ],
   "outputs": [],
   "metadata": {}
  },
  {
   "cell_type": "markdown",
   "source": [
    "## Submission and Grading\n",
    "\n",
    "After completing each part of the assignment, be sure to submit your solutions to the grader.\n",
    "\n",
    "For this programming exercise, you are only required to complete the first part of the exercise to implement linear regression with one variable. The second part of the exercise, which is optional, covers linear regression with multiple variables. The following is a breakdown of how each part of this exercise is scored.\n",
    "\n",
    "**Required Exercises**\n",
    "\n",
    "| Section | Part                                           |Submitted Function                     | Points \n",
    "|---------|:-                                             |:-                                     | :-:    \n",
    "| 1       | [Warm up exercise](#section1)                  | [`warmUpExercise`](#warmUpExercise)    |  10    \n",
    "| 2       | [Compute cost for one variable](#section2)     | [`computeCost`](#computeCost)         |  40    \n",
    "| 3       | [Gradient descent for one variable](#section3) | [`gradientDescent`](#gradientDescent) |  50    \n",
    "|         | Total Points                                   |                                       | 100    \n",
    "\n",
    "**Optional Exercises**\n",
    "\n",
    "| Section | Part                                                 | Submitted Function | Points |\n",
    "|:-------:|:-                                                    |:-:                  | :-:    |\n",
    "| 4       | [Feature normalization](#section4)                   | [`featureNormalize`](#featureNormalize) | 0      |\n",
    "| 5       | [Compute cost for multiple variables](#section5)     | [`computeCostMulti`](#computeCostMulti) | 0      |\n",
    "| 6       | [Gradient descent for multiple variables](#section5) | [`gradientDescentMulti`](#gradientDescentMulti) |0      |\n",
    "| 7       | [Normal Equations](#section7)                        | [`normalEqn`](#normalEqn)        | 0      |\n",
    "\n",
    "You are allowed to submit your solutions multiple times, and we will take only the highest score into consideration.\n",
    "\n",
    "<div class=\"alert alert-block alert-warning\">\n",
    "At the end of each section in this notebook, we have a cell which contains code for submitting the solutions thus far to the grader. Execute the cell to see your score up to the current section. For all your work to be submitted properly, you must execute those cells at least once. They must also be re-executed everytime the submitted function is updated.\n",
    "</div>\n",
    "\n",
    "\n",
    "## Debugging\n",
    "\n",
    "Here are some things to keep in mind throughout this exercise:\n",
    "\n",
    "- Python array indices start from zero, not one (contrary to OCTAVE/MATLAB). \n",
    "\n",
    "- There is an important distinction between python arrays (called `list` or `tuple`) and `numpy` arrays. You should use `numpy` arrays in all your computations. Vector/matrix operations work only with `numpy` arrays. Python lists do not support vector operations (you need to use for loops).\n",
    "\n",
    "- If you are seeing many errors at runtime, inspect your matrix operations to make sure that you are adding and multiplying matrices of compatible dimensions. Printing the dimensions of `numpy` arrays using the `shape` property will help you debug.\n",
    "\n",
    "- By default, `numpy` interprets math operators to be element-wise operators. If you want to do matrix multiplication, you need to use the `dot` function in `numpy`. For, example if `A` and `B` are two `numpy` matrices, then the matrix operation AB is `np.dot(A, B)`. Note that for 2-dimensional matrices or vectors (1-dimensional), this is also equivalent to `A@B` (requires python >= 3.5)."
   ],
   "metadata": {}
  },
  {
   "cell_type": "markdown",
   "source": [
    "<a id=\"section1\"></a>\n",
    "## 1 Simple python and `numpy` function\n",
    "\n",
    "The first part of this assignment gives you practice with python and `numpy` syntax and the homework submission process. In the next cell, you will find the outline of a `python` function. Modify it to return a 5 x 5 identity matrix by filling in the following code:\n",
    "\n",
    "```python\n",
    "A = np.eye(5)\n",
    "```\n",
    "<a id=\"warmUpExercise\"></a>"
   ],
   "metadata": {}
  },
  {
   "cell_type": "code",
   "execution_count": null,
   "source": [
    "def warmUpExercise():\r\n",
    "    \"\"\"\r\n",
    "    Example function in Python which computes the identity matrix.\r\n",
    "    \r\n",
    "    Returns\r\n",
    "    -------\r\n",
    "    A : array_like\r\n",
    "        The 5x5 identity matrix.\r\n",
    "    \r\n",
    "    Instructions\r\n",
    "    ------------\r\n",
    "    Return the 5x5 identity matrix.\r\n",
    "    \"\"\"    \r\n",
    "    # ======== YOUR CODE HERE ======\r\n",
    "    A = np.eye(5)   # modify this line\r\n",
    "    \r\n",
    "    # ==============================\r\n",
    "    return A"
   ],
   "outputs": [],
   "metadata": {}
  },
  {
   "cell_type": "markdown",
   "source": [
    "The previous cell only defines the function `warmUpExercise`. We can now run it by executing the following cell to see its output. You should see output similar to the following:\n",
    "\n",
    "```python\n",
    "array([[ 1.,  0.,  0.,  0.,  0.],\n",
    "       [ 0.,  1.,  0.,  0.,  0.],\n",
    "       [ 0.,  0.,  1.,  0.,  0.],\n",
    "       [ 0.,  0.,  0.,  1.,  0.],\n",
    "       [ 0.,  0.,  0.,  0.,  1.]])\n",
    "```"
   ],
   "metadata": {}
  },
  {
   "cell_type": "code",
   "execution_count": null,
   "source": [
    "warmUpExercise()"
   ],
   "outputs": [],
   "metadata": {}
  },
  {
   "cell_type": "markdown",
   "source": [
    "### 1.1 Submitting solutions\n",
    "\n",
    "After completing a part of the exercise, you can submit your solutions for grading by first adding the function you modified to the grader object, and then sending your function to Coursera for grading. \n",
    "\n",
    "The grader will prompt you for your login e-mail and submission token. You can obtain a submission token from the web page for the assignment. You are allowed to submit your solutions multiple times, and we will take only the highest score into consideration.\n",
    "\n",
    "Execute the next cell to grade your solution to the first part of this exercise.\n",
    "\n",
    "*You should now submit your solutions.*"
   ],
   "metadata": {}
  },
  {
   "cell_type": "code",
   "execution_count": null,
   "source": [
    "# appends the implemented function in part 1 to the grader object\r\n",
    "grader[1] = warmUpExercise\r\n",
    "\r\n",
    "# send the added functions to coursera grader for getting a grade on this part\r\n",
    "grader.grade()"
   ],
   "outputs": [],
   "metadata": {}
  },
  {
   "cell_type": "markdown",
   "source": [
    "## 2 Linear regression with one variable\n",
    "\n",
    "Now you will implement linear regression with one variable to predict profits for a food truck. Suppose you are the CEO of a restaurant franchise and are considering different cities for opening a new outlet. The chain already has trucks in various cities and you have data for profits and populations from the cities. You would like to use this data to help you select which city to expand to next. \n",
    "\n",
    "The file `Data/ex1data1.txt` contains the dataset for our linear regression problem. The first column is the population of a city (in 10,000s) and the second column is the profit of a food truck in that city (in $10,000s). A negative value for profit indicates a loss. \n",
    "\n",
    "We provide you with the code needed to load this data. The dataset is loaded from the data file into the variables `x` and `y`:"
   ],
   "metadata": {}
  },
  {
   "cell_type": "code",
   "execution_count": null,
   "source": [
    "# Read comma separated data\r\n",
    "data = np.loadtxt(os.path.join('Data', 'ex1data1.txt'), delimiter=',')\r\n",
    "X, y = data[:, 0], data[:, 1]\r\n",
    "\r\n",
    "m = y.size  # number of training examples"
   ],
   "outputs": [],
   "metadata": {}
  },
  {
   "cell_type": "markdown",
   "source": [
    "### 2.1 Plotting the Data\r\n",
    "\r\n",
    "Before starting on any task, it is often useful to understand the data by visualizing it. For this dataset, you can use a scatter plot to visualize the data, since it has only two properties to plot (profit and population). Many other problems that you will encounter in real life are multi-dimensional and cannot be plotted on a 2-d plot. There are many plotting libraries in python (see this [blog post](https://blog.modeanalytics.com/python-data-visualization-libraries/) for a good summary of the most popular ones). \r\n",
    "\r\n",
    "In this course, we will be exclusively using `matplotlib` to do all our plotting. `matplotlib` is one of the most popular scientific plotting libraries in python and has extensive tools and functions to make beautiful plots. `pyplot` is a module within `matplotlib` which provides a simplified interface to `matplotlib`'s most common plotting tasks, mimicking MATLAB's plotting interface.\r\n",
    "\r\n",
    "In the following part, your first job is to complete the `plotData` function below. Modify the function and fill in the following code:\r\n",
    "\r\n",
    "```python\r\n",
    "    plt.plot(x, y, 'ro', ms=10, mec='k')\r\n",
    "    plt.ylabel('Profit in $10,000')\r\n",
    "    plt.xlabel('Population of City in 10,000s')\r\n",
    "```"
   ],
   "metadata": {}
  },
  {
   "cell_type": "code",
   "execution_count": null,
   "source": [
    "def plotData(x, y):\r\n",
    "    \"\"\"\r\n",
    "    Plots the data points x and y into a new figure. Plots the data \r\n",
    "    points and gives the figure axes labels of population and profit.\r\n",
    "    \r\n",
    "    Parameters\r\n",
    "    ----------\r\n",
    "    x : array_like\r\n",
    "        Data point values for x-axis.\r\n",
    "\r\n",
    "    y : array_like\r\n",
    "        Data point values for y-axis. Note x and y should have the same size.\r\n",
    "    \r\n",
    "    Instructions\r\n",
    "    ------------\r\n",
    "    Plot the training data into a figure using the \"figure\" and \"plot\"\r\n",
    "    functions. Set the axes labels using the \"xlabel\" and \"ylabel\" functions.\r\n",
    "    Assume the population and revenue data have been passed in as the x\r\n",
    "    and y arguments of this function.    \r\n",
    "    \r\n",
    "    Hint\r\n",
    "    ----\r\n",
    "    You can use the 'ro' option with plot to have the markers\r\n",
    "    appear as red circles. Furthermore, you can make the markers larger by\r\n",
    "    using plot(..., 'ro', ms=10), where `ms` refers to marker size. You \r\n",
    "    can also set the marker edge color using the `mec` property.\r\n",
    "    \"\"\"\r\n",
    "    fig = plt.figure()  # open a new figure\r\n",
    "    \r\n",
    "    # ====================== YOUR CODE HERE ======================= \r\n",
    "    \r\n",
    "    plt.plot(x, y, 'ro', ms=10, mec='k')\r\n",
    "    plt.ylabel('Profit in $10,000')\r\n",
    "    plt.xlabel('Population of City in 10,000s')\r\n",
    "\r\n",
    "    # =============================================================\r\n"
   ],
   "outputs": [],
   "metadata": {}
  },
  {
   "cell_type": "markdown",
   "source": [
    "Now run the defined function with the loaded data to visualize the data. The end result should look like the following figure:\n",
    "\n",
    "![](Figures/dataset1.png)\n",
    "\n",
    "Execute the next cell to visualize the data."
   ],
   "metadata": {}
  },
  {
   "cell_type": "code",
   "execution_count": null,
   "source": [
    "plotData(X, y)"
   ],
   "outputs": [],
   "metadata": {}
  },
  {
   "cell_type": "markdown",
   "source": [
    "To quickly learn more about the `matplotlib` plot function and what arguments you can provide to it, you can type `?plt.plot` in a cell within the jupyter notebook. This opens a separate page showing the documentation for the requested function. You can also search online for plotting documentation. \r\n",
    "\r\n",
    "To set the markers to red circles, we used the option `'or'` within the `plot` function."
   ],
   "metadata": {}
  },
  {
   "cell_type": "code",
   "execution_count": null,
   "source": [
    "?plt.plot"
   ],
   "outputs": [],
   "metadata": {}
  },
  {
   "cell_type": "markdown",
   "source": [
    "<a id=\"section2\"></a>\r\n",
    "### 2.2 Gradient Descent\r\n",
    "\r\n",
    "In this part, you will fit the linear regression parameters $\\theta$ to our dataset using gradient descent.\r\n",
    "\r\n",
    "#### 2.2.1 Update Equations\r\n",
    "\r\n",
    "The objective of linear regression is to minimize the cost function\r\n",
    "\r\n",
    "$$ J(\\theta) = \\frac{1}{2m} \\sum_{i=1}^m \\left( h_{\\theta}(x^{(i)}) - y^{(i)}\\right)^2$$\r\n",
    "\r\n",
    "where the hypothesis $h_\\theta(x)$ is given by the linear model\r\n",
    "$$ h_\\theta(x) = \\theta^Tx = \\theta_0 + \\theta_1 x_1$$\r\n",
    "\r\n",
    "Recall that the parameters of your model are the $\\theta_j$ values. These are\r\n",
    "the values you will adjust to minimize cost $J(\\theta)$. One way to do this is to\r\n",
    "use the batch gradient descent algorithm. In batch gradient descent, each\r\n",
    "iteration performs the update\r\n",
    "\r\n",
    "$$ \\theta_j = \\theta_j - \\alpha \\frac{1}{m} \\sum_{i=1}^m \\left( h_\\theta(x^{(i)}) - y^{(i)}\\right)x_j^{(i)} \\qquad \\text{simultaneously update } \\theta_j \\text{ for all } j$$\r\n",
    "\r\n",
    "With each step of gradient descent, your parameters $\\theta_j$ come closer to the optimal values that will achieve the lowest cost J($\\theta$).\r\n",
    "\r\n",
    "<div class=\"alert alert-block alert-warning\">\r\n",
    "**Implementation Note:** We store each example as a row in the the $X$ matrix in Python `numpy`. To take into account the intercept term ($\\theta_0$), we add an additional first column to $X$ and set it to all ones. This allows us to treat $\\theta_0$ as simply another 'feature'.\r\n",
    "</div>\r\n",
    "\r\n",
    "\r\n",
    "#### 2.2.2 Implementation\r\n",
    "\r\n",
    "We have already set up the data for linear regression. In the following cell, we add another dimension to our data to accommodate the $\\theta_0$ intercept term. Do NOT execute this cell more than once."
   ],
   "metadata": {}
  },
  {
   "cell_type": "code",
   "execution_count": null,
   "source": [
    "# Add a column of ones to X. The numpy function stack joins arrays along a given axis. \r\n",
    "# The first axis (axis=0) refers to rows (training examples) \r\n",
    "# and second axis (axis=1) refers to columns (features).\r\n",
    "X = np.stack([np.ones(m), X], axis=1)"
   ],
   "outputs": [],
   "metadata": {}
  },
  {
   "cell_type": "markdown",
   "source": [
    "<a id=\"section2\"></a>\n",
    "#### 2.2.3 Computing the cost $J(\\theta)$\n",
    "\n",
    "As you perform gradient descent to learn minimize the cost function $J(\\theta)$, it is helpful to monitor the convergence by computing the cost. In this section, you will implement a function to calculate $J(\\theta)$ so you can check the convergence of your gradient descent implementation. \n",
    "\n",
    "Your next task is to complete the code for the function `computeCost` which computes $J(\\theta)$. As you are doing this, remember that the variables $X$ and $y$ are not scalar values. $X$ is a matrix whose rows represent the examples from the training set and $y$ is a vector whose each elemennt represent the value at a given row of $X$.\n",
    "<a id=\"computeCost\"></a>"
   ],
   "metadata": {}
  },
  {
   "cell_type": "code",
   "execution_count": null,
   "source": [
    "def computeCost(X, y, theta):\r\n",
    "    \"\"\"\r\n",
    "    Compute cost for linear regression. Computes the cost of using theta as the\r\n",
    "    parameter for linear regression to fit the data points in X and y.\r\n",
    "    \r\n",
    "    Parameters\r\n",
    "    ----------\r\n",
    "    X : array_like\r\n",
    "        The input dataset of shape (m x n+1), where m is the number of examples,\r\n",
    "        and n is the number of features. We assume a vector of one's already \r\n",
    "        appended to the features so we have n+1 columns.\r\n",
    "    \r\n",
    "    y : array_like\r\n",
    "        The values of the function at each data point. This is a vector of\r\n",
    "        shape (m, ).\r\n",
    "    \r\n",
    "    theta : array_like\r\n",
    "        The parameters for the regression function. This is a vector of \r\n",
    "        shape (n+1, ).\r\n",
    "    \r\n",
    "    Returns\r\n",
    "    -------\r\n",
    "    J : float\r\n",
    "        The value of the regression cost function.\r\n",
    "    \r\n",
    "    Instructions\r\n",
    "    ------------\r\n",
    "    Compute the cost of a particular choice of theta. \r\n",
    "    You should set J to the cost.\r\n",
    "    \"\"\"\r\n",
    "    \r\n",
    "    # initialize some useful values\r\n",
    "    m = y.size  # number of training examples\r\n",
    "    \r\n",
    "    # You need to return the following variables correctly\r\n",
    "    J = 0\r\n",
    "    \r\n",
    "    # ====================== YOUR CODE HERE =====================\r\n",
    "\r\n",
    "    J = 1/(2*m) * ((X @ theta - y).T @ (X @ theta -y))\r\n",
    "\r\n",
    "    # ===========================================================\r\n",
    "    return J"
   ],
   "outputs": [],
   "metadata": {}
  },
  {
   "cell_type": "markdown",
   "source": [
    "Once you have completed the function, the next step will run `computeCost` two times using two different initializations of $\\theta$. You will see the cost printed to the screen."
   ],
   "metadata": {}
  },
  {
   "cell_type": "code",
   "execution_count": null,
   "source": [
    "J = computeCost(X, y, theta=np.array([0.0, 0.0]))\r\n",
    "print('With theta = [0, 0] \\nCost computed = %.2f' % J)\r\n",
    "print('Expected cost value (approximately) 32.07\\n')\r\n",
    "\r\n",
    "# further testing of the cost function\r\n",
    "J = computeCost(X, y, theta=np.array([-1, 2]))\r\n",
    "print('With theta = [-1, 2]\\nCost computed = %.2f' % J)\r\n",
    "print('Expected cost value (approximately) 54.24')"
   ],
   "outputs": [],
   "metadata": {}
  },
  {
   "cell_type": "markdown",
   "source": [
    "*You should now submit your solutions by executing the following cell.*"
   ],
   "metadata": {}
  },
  {
   "cell_type": "code",
   "execution_count": null,
   "source": [
    "grader[2] = computeCost\r\n",
    "grader.grade()"
   ],
   "outputs": [],
   "metadata": {}
  },
  {
   "cell_type": "markdown",
   "source": [
    "<a id=\"section3\"></a>\n",
    "#### 2.2.4 Gradient descent\n",
    "\n",
    "Next, you will complete a function which implements gradient descent.\n",
    "The loop structure has been written for you, and you only need to supply the updates to $\\theta$ within each iteration. \n",
    "\n",
    "As you program, make sure you understand what you are trying to optimize and what is being updated. Keep in mind that the cost $J(\\theta)$ is parameterized by the vector $\\theta$, not $X$ and $y$. That is, we minimize the value of $J(\\theta)$ by changing the values of the vector $\\theta$, not by changing $X$ or $y$. [Refer to the equations in this notebook](#section2) and to the video lectures if you are uncertain. A good way to verify that gradient descent is working correctly is to look at the value of $J(\\theta)$ and check that it is decreasing with each step. \n",
    "\n",
    "The starter code for the function `gradientDescent` calls `computeCost` on every iteration and saves the cost to a `python` list. Assuming you have implemented gradient descent and `computeCost` correctly, your value of $J(\\theta)$ should never increase, and should converge to a steady value by the end of the algorithm.\n",
    "\n",
    "<div class=\"alert alert-box alert-warning\">\n",
    "**Vectors and matrices in `numpy`** - Important implementation notes\n",
    "\n",
    "A vector in `numpy` is a one dimensional array, for example `np.array([1, 2, 3])` is a vector. A matrix in `numpy` is a two dimensional array, for example `np.array([[1, 2, 3], [4, 5, 6]])`. However, the following is still considered a matrix `np.array([[1, 2, 3]])` since it has two dimensions, even if it has a shape of 1x3 (which looks like a vector).\n",
    "\n",
    "Given the above, the function `np.dot` which we will use for all matrix/vector multiplication has the following properties:\n",
    "- It always performs inner products on vectors. If `x=np.array([1, 2, 3])`, then `np.dot(x, x)` is a scalar.\n",
    "- For matrix-vector multiplication, so if $X$ is a $m\\times n$ matrix and $y$ is a vector of length $m$, then the operation `np.dot(y, X)` considers $y$ as a $1 \\times m$ vector. On the other hand, if $y$ is a vector of length $n$, then the operation `np.dot(X, y)` considers $y$ as a $n \\times 1$ vector.\n",
    "- A vector can be promoted to a matrix using `y[None]` or `[y[np.newaxis]`. That is, if `y = np.array([1, 2, 3])` is a vector of size 3, then `y[None, :]` is a matrix of shape $1 \\times 3$. We can use `y[:, None]` to obtain a shape of $3 \\times 1$.\n",
    "<div>\n",
    "<a id=\"gradientDescent\"></a>"
   ],
   "metadata": {}
  },
  {
   "cell_type": "code",
   "execution_count": null,
   "source": [
    "def gradientDescent(X, y, theta, alpha, num_iters):\r\n",
    "    \"\"\"\r\n",
    "    Performs gradient descent to learn `theta`. Updates theta by taking `num_iters`\r\n",
    "    gradient steps with learning rate `alpha`.\r\n",
    "    \r\n",
    "    Parameters\r\n",
    "    ----------\r\n",
    "    X : array_like\r\n",
    "        The input dataset of shape (m x n+1).\r\n",
    "    \r\n",
    "    y : array_like\r\n",
    "        Value at given features. A vector of shape (m, ).\r\n",
    "    \r\n",
    "    theta : array_like\r\n",
    "        Initial values for the linear regression parameters. \r\n",
    "        A vector of shape (n+1, ).\r\n",
    "    \r\n",
    "    alpha : float\r\n",
    "        The learning rate.\r\n",
    "    \r\n",
    "    num_iters : int\r\n",
    "        The number of iterations for gradient descent. \r\n",
    "    \r\n",
    "    Returns\r\n",
    "    -------\r\n",
    "    theta : array_like\r\n",
    "        The learned linear regression parameters. A vector of shape (n+1, ).\r\n",
    "    \r\n",
    "    J_history : list\r\n",
    "        A python list for the values of the cost function after each iteration.\r\n",
    "    \r\n",
    "    Instructions\r\n",
    "    ------------\r\n",
    "    Peform a single gradient step on the parameter vector theta.\r\n",
    "\r\n",
    "    While debugging, it can be useful to print out the values of \r\n",
    "    the cost function (computeCost) and gradient here.\r\n",
    "    \"\"\"\r\n",
    "    # Initialize some useful values\r\n",
    "    m = y.shape[0]  # number of training examples\r\n",
    "    \r\n",
    "    # make a copy of theta, to avoid changing the original array, since numpy arrays\r\n",
    "    # are passed by reference to functions\r\n",
    "    theta = theta.copy()\r\n",
    "    \r\n",
    "    J_history = [] # Use a python list to save cost in every iteration\r\n",
    "    \r\n",
    "    for i in range(num_iters):\r\n",
    "        # ==================== YOUR CODE HERE =================================\r\n",
    "        \r\n",
    "        theta = theta - alpha/m * (X.T @ (X @ theta - y ))\r\n",
    "\r\n",
    "        # =====================================================================\r\n",
    "        \r\n",
    "        # save the cost J in every iteration\r\n",
    "        J_history.append(computeCost(X, y, theta))\r\n",
    "    \r\n",
    "    return theta, J_history"
   ],
   "outputs": [],
   "metadata": {}
  },
  {
   "cell_type": "markdown",
   "source": [
    "After you are finished call the implemented `gradientDescent` function and print the computed $\\theta$. We initialize the $\\theta$ parameters to 0 and the learning rate $\\alpha$ to 0.01. Execute the following cell to check your code."
   ],
   "metadata": {}
  },
  {
   "cell_type": "code",
   "execution_count": null,
   "source": [
    "# initialize fitting parameters\r\n",
    "theta = np.zeros(2)\r\n",
    "\r\n",
    "# some gradient descent settings\r\n",
    "iterations = 1500\r\n",
    "alpha = 0.01\r\n",
    "\r\n",
    "theta, J_history = gradientDescent(X ,y, theta, alpha, iterations)\r\n",
    "print('Theta found by gradient descent: {:.4f}, {:.4f}'.format(*theta))\r\n",
    "print('Expected theta values (approximately): [-3.6303, 1.1664]')"
   ],
   "outputs": [],
   "metadata": {}
  },
  {
   "cell_type": "markdown",
   "source": [
    "We will use your final parameters to plot the linear fit. The results should look like the following figure.\n",
    "\n",
    "![](Figures/regression_result.png)"
   ],
   "metadata": {}
  },
  {
   "cell_type": "code",
   "execution_count": null,
   "source": [
    "# plot the linear fit\r\n",
    "plotData(X[:, 1], y)\r\n",
    "plt.plot(X[:, 1], np.dot(X, theta), '-')\r\n",
    "plt.legend(['Training data', 'Linear regression']);"
   ],
   "outputs": [],
   "metadata": {}
  },
  {
   "cell_type": "markdown",
   "source": [
    "Your final values for $\\theta$ will also be used to make predictions on profits in areas of 35,000 and 70,000 people.\n",
    "\n",
    "<div class=\"alert alert-block alert-success\">\n",
    "Note the way that the following lines use matrix multiplication, rather than explicit summation or looping, to calculate the predictions. This is an example of code vectorization in `numpy`.\n",
    "</div>\n",
    "\n",
    "<div class=\"alert alert-block alert-success\">\n",
    "Note that the first argument to the `numpy` function `dot` is a python list. `numpy` can internally converts **valid** python lists to numpy arrays when explicitly provided as arguments to `numpy` functions.\n",
    "</div>\n"
   ],
   "metadata": {}
  },
  {
   "cell_type": "code",
   "execution_count": null,
   "source": [
    "# Predict values for population sizes of 35,000 and 70,000\r\n",
    "predict1 = np.dot([1, 3.5], theta)\r\n",
    "print('For population = 35,000, we predict a profit of {:.2f}\\n'.format(predict1*10000))\r\n",
    "\r\n",
    "predict2 = np.dot([1, 7], theta)\r\n",
    "print('For population = 70,000, we predict a profit of {:.2f}\\n'.format(predict2*10000))"
   ],
   "outputs": [],
   "metadata": {}
  },
  {
   "cell_type": "markdown",
   "source": [
    "*You should now submit your solutions by executing the next cell.*"
   ],
   "metadata": {}
  },
  {
   "cell_type": "code",
   "execution_count": null,
   "source": [
    "grader[3] = gradientDescent\r\n",
    "grader.grade()"
   ],
   "outputs": [],
   "metadata": {}
  },
  {
   "cell_type": "markdown",
   "source": [
    "### 2.4 Visualizing $J(\\theta)$\n",
    "\n",
    "To understand the cost function $J(\\theta)$ better, you will now plot the cost over a 2-dimensional grid of $\\theta_0$ and $\\theta_1$ values. You will not need to code anything new for this part, but you should understand how the code you have written already is creating these images.\n",
    "\n",
    "In the next cell, the code is set up to calculate $J(\\theta)$ over a grid of values using the `computeCost` function that you wrote. After executing the following cell, you will have a 2-D array of $J(\\theta)$ values. Then, those values are used to produce surface and contour plots of $J(\\theta)$ using the matplotlib `plot_surface` and `contourf` functions. The plots should look something like the following:\n",
    "\n",
    "![](Figures/cost_function.png)\n",
    "\n",
    "The purpose of these graphs is to show you how $J(\\theta)$ varies with changes in $\\theta_0$ and $\\theta_1$. The cost function $J(\\theta)$ is bowl-shaped and has a global minimum. (This is easier to see in the contour plot than in the 3D surface plot). This minimum is the optimal point for $\\theta_0$ and $\\theta_1$, and each step of gradient descent moves closer to this point."
   ],
   "metadata": {}
  },
  {
   "cell_type": "code",
   "execution_count": null,
   "source": [
    "# grid over which we will calculate J\r\n",
    "theta0_vals = np.linspace(-10, 10, 100)\r\n",
    "theta1_vals = np.linspace(-1, 4, 100)\r\n",
    "\r\n",
    "# initialize J_vals to a matrix of 0's\r\n",
    "J_vals = np.zeros((theta0_vals.shape[0], theta1_vals.shape[0]))\r\n",
    "\r\n",
    "# Fill out J_vals\r\n",
    "for i, theta0 in enumerate(theta0_vals):\r\n",
    "    for j, theta1 in enumerate(theta1_vals):\r\n",
    "        J_vals[i, j] = computeCost(X, y, [theta0, theta1])\r\n",
    "        \r\n",
    "# Because of the way meshgrids work in the surf command, we need to\r\n",
    "# transpose J_vals before calling surf, or else the axes will be flipped\r\n",
    "J_vals = J_vals.T\r\n",
    "\r\n",
    "# surface plot\r\n",
    "fig = plt.figure(figsize=(12, 5))\r\n",
    "ax = fig.add_subplot(121, projection='3d')\r\n",
    "ax.plot_surface(theta0_vals, theta1_vals, J_vals, cmap='viridis')\r\n",
    "plt.xlabel('theta0')\r\n",
    "plt.ylabel('theta1')\r\n",
    "plt.title('Surface')\r\n",
    "\r\n",
    "# contour plot\r\n",
    "# Plot J_vals as 15 contours spaced logarithmically between 0.01 and 100\r\n",
    "ax = plt.subplot(122)\r\n",
    "plt.contour(theta0_vals, theta1_vals, J_vals, linewidths=2, cmap='viridis', levels=np.logspace(-2, 3, 20))\r\n",
    "plt.xlabel('theta0')\r\n",
    "plt.ylabel('theta1')\r\n",
    "plt.plot(theta[0], theta[1], 'ro', ms=10, lw=2)\r\n",
    "plt.title('Contour, showing minimum')\r\n",
    "pass"
   ],
   "outputs": [],
   "metadata": {}
  },
  {
   "cell_type": "markdown",
   "source": [
    "## Optional Exercises\n",
    "\n",
    "If you have successfully completed the material above, congratulations! You now understand linear regression and should able to start using it on your own datasets.\n",
    "\n",
    "For the rest of this programming exercise, we have included the following optional exercises. These exercises will help you gain a deeper understanding of the material, and if you are able to do so, we encourage you to complete them as well. You can still submit your solutions to these exercises to check if your answers are correct.\n",
    "\n",
    "## 3 Linear regression with multiple variables\n",
    "\n",
    "In this part, you will implement linear regression with multiple variables to predict the prices of houses. Suppose you are selling your house and you want to know what a good market price would be. One way to do this is to first collect information on recent houses sold and make a model of housing prices.\n",
    "\n",
    "The file `Data/ex1data2.txt` contains a training set of housing prices in Portland, Oregon. The first column is the size of the house (in square feet), the second column is the number of bedrooms, and the third column is the price\n",
    "of the house. \n",
    "\n",
    "<a id=\"section4\"></a>\n",
    "### 3.1 Feature Normalization\n",
    "\n",
    "We start by loading and displaying some values from this dataset. By looking at the values, note that house sizes are about 1000 times the number of bedrooms. When features differ by orders of magnitude, first performing feature scaling can make gradient descent converge much more quickly."
   ],
   "metadata": {}
  },
  {
   "cell_type": "code",
   "execution_count": null,
   "source": [
    "# Load data\r\n",
    "data = np.loadtxt(os.path.join('Data', 'ex1data2.txt'), delimiter=',')\r\n",
    "X = data[:, :2]\r\n",
    "y = data[:, 2]\r\n",
    "m = y.size\r\n",
    "\r\n",
    "# print out some data points\r\n",
    "print('{:>8s}{:>8s}{:>10s}'.format('X[:,0]', 'X[:, 1]', 'y'))\r\n",
    "print('-'*26)\r\n",
    "for i in range(10):\r\n",
    "    print('{:8.0f}{:8.0f}{:10.0f}'.format(X[i, 0], X[i, 1], y[i]))"
   ],
   "outputs": [],
   "metadata": {}
  },
  {
   "cell_type": "markdown",
   "source": [
    "Your task here is to complete the code in `featureNormalize` function:\n",
    "- Subtract the mean value of each feature from the dataset.\n",
    "- After subtracting the mean, additionally scale (divide) the feature values by their respective “standard deviations.”\n",
    "\n",
    "The standard deviation is a way of measuring how much variation there is in the range of values of a particular feature (most data points will lie within ±2 standard deviations of the mean); this is an alternative to taking the range of values (max-min). In `numpy`, you can use the `std` function to compute the standard deviation. \n",
    "\n",
    "For example, the quantity `X[:, 0]` contains all the values of $x_1$ (house sizes) in the training set, so `np.std(X[:, 0])` computes the standard deviation of the house sizes.\n",
    "At the time that the function `featureNormalize` is called, the extra column of 1’s corresponding to $x_0 = 1$ has not yet been added to $X$. \n",
    "\n",
    "You will do this for all the features and your code should work with datasets of all sizes (any number of features / examples). Note that each column of the matrix $X$ corresponds to one feature.\n",
    "\n",
    "<div class=\"alert alert-block alert-warning\">\n",
    "**Implementation Note:** When normalizing the features, it is important\n",
    "to store the values used for normalization - the mean value and the standard deviation used for the computations. After learning the parameters\n",
    "from the model, we often want to predict the prices of houses we have not\n",
    "seen before. Given a new x value (living room area and number of bedrooms), we must first normalize x using the mean and standard deviation that we had previously computed from the training set.\n",
    "</div>\n",
    "<a id=\"featureNormalize\"></a>"
   ],
   "metadata": {}
  },
  {
   "cell_type": "code",
   "execution_count": null,
   "source": [
    "def  featureNormalize(X):\r\n",
    "    \"\"\"\r\n",
    "    Normalizes the features in X. returns a normalized version of X where\r\n",
    "    the mean value of each feature is 0 and the standard deviation\r\n",
    "    is 1. This is often a good preprocessing step to do when working with\r\n",
    "    learning algorithms.\r\n",
    "    \r\n",
    "    Parameters\r\n",
    "    ----------\r\n",
    "    X : array_like\r\n",
    "        The dataset of shape (m x n).\r\n",
    "    \r\n",
    "    Returns\r\n",
    "    -------\r\n",
    "    X_norm : array_like\r\n",
    "        The normalized dataset of shape (m x n).\r\n",
    "    \r\n",
    "    Instructions\r\n",
    "    ------------\r\n",
    "    First, for each feature dimension, compute the mean of the feature\r\n",
    "    and subtract it from the dataset, storing the mean value in mu. \r\n",
    "    Next, compute the  standard deviation of each feature and divide\r\n",
    "    each feature by it's standard deviation, storing the standard deviation \r\n",
    "    in sigma. \r\n",
    "    \r\n",
    "    Note that X is a matrix where each column is a feature and each row is\r\n",
    "    an example. You needto perform the normalization separately for each feature. \r\n",
    "    \r\n",
    "    Hint\r\n",
    "    ----\r\n",
    "    You might find the 'np.mean' and 'np.std' functions useful.\r\n",
    "    \"\"\"\r\n",
    "    # You need to set these values correctly\r\n",
    "    X_norm = X.copy()\r\n",
    "    mu = np.zeros(X.shape[1])\r\n",
    "    sigma = np.zeros(X.shape[1])\r\n",
    "\r\n",
    "    # =========================== YOUR CODE HERE =====================\r\n",
    "\r\n",
    "    mu = X.mean(axis=0)\r\n",
    "    sigma = X.std(axis=0) + sys.float_info.epsilon  # Preventing divide by 0\r\n",
    "    X_norm = (X - mu) / sigma\r\n",
    "    \r\n",
    "    # ================================================================\r\n",
    "    return X_norm, mu, sigma"
   ],
   "outputs": [],
   "metadata": {}
  },
  {
   "cell_type": "markdown",
   "source": [
    "Execute the next cell to run the implemented `featureNormalize` function."
   ],
   "metadata": {}
  },
  {
   "cell_type": "code",
   "execution_count": null,
   "source": [
    "# call featureNormalize on the loaded data\r\n",
    "X_norm, mu, sigma = featureNormalize(X)\r\n",
    "\r\n",
    "print('Computed mean:', mu)\r\n",
    "print('Computed standard deviation:', sigma)"
   ],
   "outputs": [],
   "metadata": {}
  },
  {
   "cell_type": "markdown",
   "source": [
    "*You should now submit your solutions.*"
   ],
   "metadata": {}
  },
  {
   "cell_type": "code",
   "execution_count": null,
   "source": [
    "grader[4] = featureNormalize\r\n",
    "grader.grade()"
   ],
   "outputs": [],
   "metadata": {}
  },
  {
   "cell_type": "markdown",
   "source": [
    "After the `featureNormalize` function is tested, we now add the intercept term to `X_norm`:"
   ],
   "metadata": {}
  },
  {
   "cell_type": "code",
   "execution_count": null,
   "source": [
    "# Add intercept term to X\r\n",
    "X = np.concatenate([np.ones((m, 1)), X_norm], axis=1)"
   ],
   "outputs": [],
   "metadata": {}
  },
  {
   "cell_type": "markdown",
   "source": [
    "<a id=\"section5\"></a>\n",
    "### 3.2 Gradient Descent\n",
    "\n",
    "Previously, you implemented gradient descent on a univariate regression problem. The only difference now is that there is one more feature in the matrix $X$. The hypothesis function and the batch gradient descent update\n",
    "rule remain unchanged. \n",
    "\n",
    "You should complete the code for the functions `computeCostMulti` and `gradientDescentMulti` to implement the cost function and gradient descent for linear regression with multiple variables. If your code in the previous part (single variable) already supports multiple variables, you can use it here too.\n",
    "Make sure your code supports any number of features and is well-vectorized.\n",
    "You can use the `shape` property of `numpy` arrays to find out how many features are present in the dataset.\n",
    "\n",
    "<div class=\"alert alert-block alert-warning\">\n",
    "**Implementation Note:** In the multivariate case, the cost function can\n",
    "also be written in the following vectorized form:\n",
    "\n",
    "$$ J(\\theta) = \\frac{1}{2m}(X\\theta - \\vec{y})^T(X\\theta - \\vec{y}) $$\n",
    "\n",
    "where \n",
    "\n",
    "$$ X = \\begin{pmatrix}\n",
    "          - (x^{(1)})^T - \\\\\n",
    "          - (x^{(2)})^T - \\\\\n",
    "          \\vdots \\\\\n",
    "          - (x^{(m)})^T - \\\\ \\\\\n",
    "        \\end{pmatrix} \\qquad \\mathbf{y} = \\begin{bmatrix} y^{(1)} \\\\ y^{(2)} \\\\ \\vdots \\\\ y^{(m)} \\\\\\end{bmatrix}$$\n",
    "\n",
    "the vectorized version is efficient when you are working with numerical computing tools like `numpy`. If you are an expert with matrix operations, you can prove to yourself that the two forms are equivalent.\n",
    "</div>\n",
    "\n",
    "<a id=\"computeCostMulti\"></a>"
   ],
   "metadata": {}
  },
  {
   "cell_type": "code",
   "execution_count": null,
   "source": [
    "def computeCostMulti(X, y, theta):\r\n",
    "    \"\"\"\r\n",
    "    Compute cost for linear regression with multiple variables.\r\n",
    "    Computes the cost of using theta as the parameter for linear regression to fit the data points in X and y.\r\n",
    "    \r\n",
    "    Parameters\r\n",
    "    ----------\r\n",
    "    X : array_like\r\n",
    "        The dataset of shape (m x n+1).\r\n",
    "    \r\n",
    "    y : array_like\r\n",
    "        A vector of shape (m, ) for the values at a given data point.\r\n",
    "    \r\n",
    "    theta : array_like\r\n",
    "        The linear regression parameters. A vector of shape (n+1, )\r\n",
    "    \r\n",
    "    Returns\r\n",
    "    -------\r\n",
    "    J : float\r\n",
    "        The value of the cost function. \r\n",
    "    \r\n",
    "    Instructions\r\n",
    "    ------------\r\n",
    "    Compute the cost of a particular choice of theta. You should set J to the cost.\r\n",
    "    \"\"\"\r\n",
    "    # Initialize some useful values\r\n",
    "    m = y.shape[0] # number of training examples\r\n",
    "    \r\n",
    "    # You need to return the following variable correctly\r\n",
    "    J = 0\r\n",
    "    \r\n",
    "    # ======================= YOUR CODE HERE ===========================\r\n",
    "\r\n",
    "    J = 1/(2*m) * (X @ theta - y).T @ (X @ theta - y)\r\n",
    "    \r\n",
    "    # ==================================================================\r\n",
    "    return J\r\n"
   ],
   "outputs": [],
   "metadata": {}
  },
  {
   "cell_type": "markdown",
   "source": [
    "*You should now submit your solutions.*"
   ],
   "metadata": {}
  },
  {
   "cell_type": "code",
   "execution_count": null,
   "source": [
    "grader[5] = computeCostMulti\r\n",
    "grader.grade()"
   ],
   "outputs": [],
   "metadata": {}
  },
  {
   "cell_type": "markdown",
   "source": [
    "<a id=\"gradientDescentMulti\"></a>"
   ],
   "metadata": {}
  },
  {
   "cell_type": "code",
   "execution_count": null,
   "source": [
    "def gradientDescentMulti(X, y, theta, alpha, num_iters):\r\n",
    "    \"\"\"\r\n",
    "    Performs gradient descent to learn theta.\r\n",
    "    Updates theta by taking num_iters gradient steps with learning rate alpha.\r\n",
    "        \r\n",
    "    Parameters\r\n",
    "    ----------\r\n",
    "    X : array_like\r\n",
    "        The dataset of shape (m x n+1).\r\n",
    "    \r\n",
    "    y : array_like\r\n",
    "        A vector of shape (m, ) for the values at a given data point.\r\n",
    "    \r\n",
    "    theta : array_like\r\n",
    "        The linear regression parameters. A vector of shape (n+1, )\r\n",
    "    \r\n",
    "    alpha : float\r\n",
    "        The learning rate for gradient descent. \r\n",
    "    \r\n",
    "    num_iters : int\r\n",
    "        The number of iterations to run gradient descent. \r\n",
    "    \r\n",
    "    Returns\r\n",
    "    -------\r\n",
    "    theta : array_like\r\n",
    "        The learned linear regression parameters. A vector of shape (n+1, ).\r\n",
    "    \r\n",
    "    J_history : list\r\n",
    "        A python list for the values of the cost function after each iteration.\r\n",
    "    \r\n",
    "    Instructions\r\n",
    "    ------------\r\n",
    "    Peform a single gradient step on the parameter vector theta.\r\n",
    "\r\n",
    "    While debugging, it can be useful to print out the values of \r\n",
    "    the cost function (computeCost) and gradient here.\r\n",
    "    \"\"\"\r\n",
    "    # Initialize some useful values\r\n",
    "    m = y.shape[0] # number of training examples\r\n",
    "    \r\n",
    "    # make a copy of theta, which will be updated by gradient descent\r\n",
    "    theta = theta.copy()\r\n",
    "    \r\n",
    "    J_history = []\r\n",
    "    \r\n",
    "    for i in range(num_iters):\r\n",
    "        # ======================= YOUR CODE HERE ==========================\r\n",
    "\r\n",
    "        theta = theta - alpha/m * X.T @ (X @ theta - y)\r\n",
    "        \r\n",
    "        # =================================================================\r\n",
    "        \r\n",
    "        # save the cost J in every iteration\r\n",
    "        J_history.append(computeCostMulti(X, y, theta))\r\n",
    "    \r\n",
    "    return theta, J_history"
   ],
   "outputs": [],
   "metadata": {}
  },
  {
   "cell_type": "markdown",
   "source": [
    "*You should now submit your solutions.*"
   ],
   "metadata": {}
  },
  {
   "cell_type": "code",
   "execution_count": null,
   "source": [
    "grader[6] = gradientDescentMulti\r\n",
    "grader.grade()"
   ],
   "outputs": [],
   "metadata": {}
  },
  {
   "cell_type": "markdown",
   "source": [
    "#### 3.2.1 Optional (ungraded) exercise: Selecting learning rates\r\n",
    "\r\n",
    "In this part of the exercise, you will get to try out different learning rates for the dataset and find a learning rate that converges quickly. You can change the learning rate by modifying the following code and changing the part of the code that sets the learning rate.\r\n",
    "\r\n",
    "Use your implementation of `gradientDescentMulti` function and run gradient descent for about 50 iterations at the chosen learning rate. The function should also return the history of $J(\\theta)$ values in a vector $J$.\r\n",
    "\r\n",
    "After the last iteration, plot the J values against the number of the iterations.\r\n",
    "\r\n",
    "If you picked a learning rate within a good range, your plot look similar as the following Figure. \r\n",
    "\r\n",
    "![](Figures/learning_rate.png)\r\n",
    "\r\n",
    "If your graph looks very different, especially if your value of $J(\\theta)$ increases or even blows up, adjust your learning rate and try again. We recommend trying values of the learning rate $\\alpha$ on a log-scale, at multiplicative steps of about 3 times the previous value (i.e., 0.3, 0.1, 0.03, 0.01 and so on). You may also want to adjust the number of iterations you are running if that will help you see the overall trend in the curve.\r\n",
    "\r\n",
    "<div class=\"alert alert-block alert-warning\">\r\n",
    "**Implementation Note:** If your learning rate is too large, $J(\\theta)$ can diverge and ‘blow up’, resulting in values which are too large for computer calculations. In these situations, `numpy` will tend to return\r\n",
    "NaNs. NaN stands for ‘not a number’ and is often caused by undefined operations that involve −∞ and +∞.\r\n",
    "</div>\r\n",
    "\r\n",
    "<div class=\"alert alert-block alert-warning\">\r\n",
    "**MATPLOTLIB tip:** To compare how different learning learning rates affect convergence, it is helpful to plot $J$ for several learning rates on the same figure. This can be done by making `alpha` a python list, and looping across the values within this list, and calling the plot function in every iteration of the loop. It is also useful to have a legend to distinguish the different lines within the plot. Search online for `plt.legend` for help on showing legends in `matplotlib`.\r\n",
    "</div>\r\n",
    "\r\n",
    "Notice the changes in the convergence curves as the learning rate changes. With a small learning rate, you should find that gradient descent takes a very long time to converge to the optimal value. Conversely, with a large learning rate, gradient descent might not converge or might even diverge!\r\n",
    "Using the best learning rate that you found, run the script\r\n",
    "to run gradient descent until convergence to find the final values of $\\theta$. Next,\r\n",
    "use this value of $\\theta$ to predict the price of a house with 1650 square feet and\r\n",
    "3 bedrooms. You will use value later to check your implementation of the normal equations. Don’t forget to normalize your features when you make this prediction!"
   ],
   "metadata": {}
  },
  {
   "cell_type": "code",
   "execution_count": null,
   "source": [
    "\"\"\"\r\n",
    "Instructions\r\n",
    "------------\r\n",
    "We have provided you with the following starter code that runs\r\n",
    "gradient descent with a particular learning rate (alpha). \r\n",
    "\r\n",
    "Your task is to first make sure that your functions - `computeCost`\r\n",
    "and `gradientDescent` already work with  this starter code and\r\n",
    "support multiple variables.\r\n",
    "\r\n",
    "After that, try running gradient descent with different values of\r\n",
    "alpha and see which one gives you the best result.\r\n",
    "\r\n",
    "Finally, you should complete the code at the end to predict the price\r\n",
    "of a 1650 sq-ft, 3 br house.\r\n",
    "\r\n",
    "Hint\r\n",
    "----\r\n",
    "At prediction, make sure you do the same feature normalization.\r\n",
    "\"\"\"\r\n",
    "# Choose some alpha value - change this\r\n",
    "alpha = 0.01\r\n",
    "num_iters = 400\r\n",
    "\r\n",
    "# init theta and run gradient descent\r\n",
    "theta = np.zeros(3)\r\n",
    "theta, J_history = gradientDescentMulti(X, y, theta, alpha, num_iters)\r\n",
    "\r\n",
    "# Plot the convergence graph\r\n",
    "plt.plot(np.arange(len(J_history)), J_history, lw=2)\r\n",
    "plt.xlabel('Number of iterations')\r\n",
    "plt.ylabel('Cost J')\r\n",
    "\r\n",
    "# Display the gradient descent's result\r\n",
    "print('theta computed from gradient descent: {:s}'.format(str(theta)))\r\n",
    "\r\n",
    "# Estimate the price of a 1650 sq-ft, 3 br house\r\n",
    "# ======================= YOUR CODE HERE ===========================\r\n",
    "# Recall that the first column of X is all-ones. \r\n",
    "# Thus, it does not need to be normalized.\r\n",
    "\r\n",
    "price = 0   # You should change this\r\n",
    "\r\n",
    "# ===================================================================\r\n",
    "\r\n",
    "print('Predicted price of a 1650 sq-ft, 3 br house (using gradient descent): ${:.0f}'.format(price))"
   ],
   "outputs": [],
   "metadata": {}
  },
  {
   "cell_type": "markdown",
   "source": [
    "*You do not need to submit any solutions for this optional (ungraded) part.*"
   ],
   "metadata": {}
  },
  {
   "cell_type": "markdown",
   "source": [
    "<a id=\"section7\"></a>\n",
    "### 3.3 Normal Equations\n",
    "\n",
    "In the lecture videos, you learned that the closed-form solution to linear regression is\n",
    "\n",
    "$$ \\theta = \\left( X^T X\\right)^{-1} X^T\\vec{y}$$\n",
    "\n",
    "Using this formula does not require any feature scaling, and you will get an exact solution in one calculation: there is no “loop until convergence” like in gradient descent. \n",
    "\n",
    "First, we will reload the data to ensure that the variables have not been modified. Remember that while you do not need to scale your features, we still need to add a column of 1’s to the $X$ matrix to have an intercept term ($\\theta_0$). The code in the next cell will add the column of 1’s to X for you."
   ],
   "metadata": {}
  },
  {
   "cell_type": "code",
   "execution_count": null,
   "source": [
    "# Load data\r\n",
    "data = np.loadtxt(os.path.join('Data', 'ex1data2.txt'), delimiter=',')\r\n",
    "X = data[:, :2]\r\n",
    "y = data[:, 2]\r\n",
    "m = y.size\r\n",
    "X = np.concatenate([np.ones((m, 1)), X], axis=1)"
   ],
   "outputs": [],
   "metadata": {}
  },
  {
   "cell_type": "markdown",
   "source": [
    "Complete the code for the function `normalEqn` below to use the formula above to calculate $\\theta$. \n",
    "\n",
    "<a id=\"normalEqn\"></a>"
   ],
   "metadata": {}
  },
  {
   "cell_type": "code",
   "execution_count": null,
   "source": [
    "def normalEqn(X, y):\r\n",
    "    \"\"\"\r\n",
    "    Computes the closed-form solution to linear regression using the normal equations.\r\n",
    "    \r\n",
    "    Parameters\r\n",
    "    ----------\r\n",
    "    X : array_like\r\n",
    "        The dataset of shape (m x n+1).\r\n",
    "    \r\n",
    "    y : array_like\r\n",
    "        The value at each data point. A vector of shape (m, ).\r\n",
    "    \r\n",
    "    Returns\r\n",
    "    -------\r\n",
    "    theta : array_like\r\n",
    "        Estimated linear regression parameters. A vector of shape (n+1, ).\r\n",
    "    \r\n",
    "    Instructions\r\n",
    "    ------------\r\n",
    "    Complete the code to compute the closed form solution to linear\r\n",
    "    regression and put the result in theta.\r\n",
    "    \r\n",
    "    Hint\r\n",
    "    ----\r\n",
    "    Look up the function `np.linalg.pinv` for computing matrix inverse.\r\n",
    "    \"\"\"\r\n",
    "    theta = np.zeros(X.shape[1])\r\n",
    "    \r\n",
    "    # ===================== YOUR CODE HERE ============================\r\n",
    "\r\n",
    "    theta = np.linalg.pinv(X.T @ X) @ X.T @ y\r\n",
    "    \r\n",
    "    # =================================================================\r\n",
    "    return theta"
   ],
   "outputs": [],
   "metadata": {}
  },
  {
   "cell_type": "markdown",
   "source": [
    "*You should now submit your solutions.*"
   ],
   "metadata": {}
  },
  {
   "cell_type": "code",
   "execution_count": null,
   "source": [
    "grader[7] = normalEqn\r\n",
    "grader.grade()"
   ],
   "outputs": [],
   "metadata": {}
  },
  {
   "cell_type": "markdown",
   "source": [
    "Optional (ungraded) exercise: Now, once you have found $\\theta$ using this\r\n",
    "method, use it to make a price prediction for a 1650-square-foot house with\r\n",
    "3 bedrooms. You should find that gives the same predicted price as the value\r\n",
    "you obtained using the model fit with gradient descent (in Section 3.2.1)."
   ],
   "metadata": {}
  },
  {
   "cell_type": "code",
   "execution_count": null,
   "source": [
    "# Calculate the parameters from the normal equation\r\n",
    "theta = normalEqn(X, y);\r\n",
    "\r\n",
    "# Display normal equation's result\r\n",
    "print('Theta computed from the normal equations: {:s}'.format(str(theta)));\r\n",
    "\r\n",
    "# Estimate the price of a 1650 sq-ft, 3 br house\r\n",
    "# ====================== YOUR CODE HERE ======================\r\n",
    "\r\n",
    "price = theta.T @ [1, 1650, 3]\r\n",
    "\r\n",
    "# ============================================================\r\n",
    "\r\n",
    "print('Predicted price of a 1650 sq-ft, 3 br house (using normal equations): ${:.0f}'.format(price))"
   ],
   "outputs": [],
   "metadata": {}
  }
 ],
 "metadata": {
  "kernelspec": {
   "name": "python3",
   "display_name": "Python   ('Machine Learning': conda)"
  },
  "language_info": {
   "name": "python",
   "version": "",
   "mimetype": "text/x-python",
   "codemirror_mode": {
    "name": "ipython",
    "version": 3
   },
   "pygments_lexer": "ipython3",
   "nbconvert_exporter": "python",
   "file_extension": ".py"
  },
  "interpreter": {
   "hash": "7a12dc136ba71af57e15d0d7588cdd7cd870429d723e093df0f6e8c7e68532e1"
  }
 },
 "nbformat": 4,
 "nbformat_minor": 2
}